{
 "cells": [
  {
   "cell_type": "code",
   "execution_count": 29,
   "metadata": {
    "tags": []
   },
   "outputs": [],
   "source": [
    "import pandas as pd\n",
    "import numpy as np\n",
    "import plotly.express as px"
   ]
  },
  {
   "cell_type": "code",
   "execution_count": 31,
   "metadata": {
    "tags": []
   },
   "outputs": [],
   "source": [
    "def clean_dataset(df):\n",
    "    df_t = df.T\n",
    "    new_header = df_t.iloc[0] # setting first row as header\n",
    "    \n",
    "    df_t = df_t[1:]\n",
    "    df_t.columns = new_header\n",
    "    \n",
    "    df_t.columns = df_t.columns.str.lstrip() # strip leading spaces  \n",
    "    return df_t"
   ]
  },
  {
   "cell_type": "code",
   "execution_count": 33,
   "metadata": {
    "tags": []
   },
   "outputs": [],
   "source": [
    "def load(file_path, sheet_name):\n",
    "    return pd.read_excel(file_path, sheet_name)"
   ]
  },
  {
   "cell_type": "markdown",
   "metadata": {
    "jp-MarkdownHeadingCollapsed": true,
    "tags": []
   },
   "source": [
    "# Cleaning quarterly dataset"
   ]
  },
  {
   "cell_type": "code",
   "execution_count": 65,
   "metadata": {
    "tags": []
   },
   "outputs": [],
   "source": [
    "df = load('cpiapr24.xlsx','T5_edit')"
   ]
  },
  {
   "cell_type": "code",
   "execution_count": 67,
   "metadata": {
    "tags": []
   },
   "outputs": [
    {
     "data": {
      "text/html": [
       "<div>\n",
       "<style scoped>\n",
       "    .dataframe tbody tr th:only-of-type {\n",
       "        vertical-align: middle;\n",
       "    }\n",
       "\n",
       "    .dataframe tbody tr th {\n",
       "        vertical-align: top;\n",
       "    }\n",
       "\n",
       "    .dataframe thead th {\n",
       "        text-align: right;\n",
       "    }\n",
       "</style>\n",
       "<table border=\"1\" class=\"dataframe\">\n",
       "  <thead>\n",
       "    <tr style=\"text-align: right;\">\n",
       "      <th></th>\n",
       "      <th>Variables</th>\n",
       "      <th>1961 Q1</th>\n",
       "      <th>1961 Q2</th>\n",
       "      <th>1961 Q3</th>\n",
       "      <th>1961 Q4</th>\n",
       "      <th>1962 Q1</th>\n",
       "      <th>1962 Q2</th>\n",
       "      <th>1962 Q3</th>\n",
       "      <th>1962 Q4</th>\n",
       "      <th>1963 Q1</th>\n",
       "      <th>...</th>\n",
       "      <th>2021 Q4</th>\n",
       "      <th>2022 Q1</th>\n",
       "      <th>2022 Q2</th>\n",
       "      <th>2022 Q3</th>\n",
       "      <th>2022 Q4</th>\n",
       "      <th>2023 Q1</th>\n",
       "      <th>2023 Q2</th>\n",
       "      <th>2023 Q3</th>\n",
       "      <th>2023 Q4</th>\n",
       "      <th>2024 Q1</th>\n",
       "    </tr>\n",
       "  </thead>\n",
       "  <tbody>\n",
       "    <tr>\n",
       "      <th>0</th>\n",
       "      <td>All Items</td>\n",
       "      <td>24.564</td>\n",
       "      <td>24.154</td>\n",
       "      <td>24.395</td>\n",
       "      <td>24.49</td>\n",
       "      <td>24.616</td>\n",
       "      <td>24.357</td>\n",
       "      <td>24.482</td>\n",
       "      <td>24.597</td>\n",
       "      <td>25.134</td>\n",
       "      <td>...</td>\n",
       "      <td>103.783</td>\n",
       "      <td>105.514</td>\n",
       "      <td>107.605</td>\n",
       "      <td>109.679</td>\n",
       "      <td>110.679</td>\n",
       "      <td>112</td>\n",
       "      <td>113.093</td>\n",
       "      <td>114.164</td>\n",
       "      <td>115.121</td>\n",
       "      <td>115.335</td>\n",
       "    </tr>\n",
       "    <tr>\n",
       "      <th>1</th>\n",
       "      <td>Food</td>\n",
       "      <td>21.786</td>\n",
       "      <td>21.127</td>\n",
       "      <td>21.509</td>\n",
       "      <td>21.665</td>\n",
       "      <td>21.844</td>\n",
       "      <td>21.429</td>\n",
       "      <td>21.617</td>\n",
       "      <td>21.805</td>\n",
       "      <td>22.647</td>\n",
       "      <td>...</td>\n",
       "      <td>104.131</td>\n",
       "      <td>105.518</td>\n",
       "      <td>107.804</td>\n",
       "      <td>110.196</td>\n",
       "      <td>111.732</td>\n",
       "      <td>113.935</td>\n",
       "      <td>114.933</td>\n",
       "      <td>115.474</td>\n",
       "      <td>116.148</td>\n",
       "      <td>117.769</td>\n",
       "    </tr>\n",
       "    <tr>\n",
       "      <th>2</th>\n",
       "      <td>Food Excl Food Serving Services</td>\n",
       "      <td>na</td>\n",
       "      <td>na</td>\n",
       "      <td>na</td>\n",
       "      <td>na</td>\n",
       "      <td>na</td>\n",
       "      <td>na</td>\n",
       "      <td>na</td>\n",
       "      <td>na</td>\n",
       "      <td>na</td>\n",
       "      <td>...</td>\n",
       "      <td>105.64</td>\n",
       "      <td>107.047</td>\n",
       "      <td>109.02</td>\n",
       "      <td>111.364</td>\n",
       "      <td>112.919</td>\n",
       "      <td>114.913</td>\n",
       "      <td>115.628</td>\n",
       "      <td>116.007</td>\n",
       "      <td>116.452</td>\n",
       "      <td>117.298</td>\n",
       "    </tr>\n",
       "  </tbody>\n",
       "</table>\n",
       "<p>3 rows × 254 columns</p>\n",
       "</div>"
      ],
      "text/plain": [
       "                                 Variables 1961 Q1 1961 Q2 1961 Q3 1961 Q4  \\\n",
       "0                                All Items  24.564  24.154  24.395   24.49   \n",
       "1                                     Food  21.786  21.127  21.509  21.665   \n",
       "2          Food Excl Food Serving Services      na      na      na      na   \n",
       "\n",
       "  1962 Q1 1962 Q2 1962 Q3 1962 Q4 1963 Q1  ...  2021 Q4  2022 Q1  2022 Q2  \\\n",
       "0  24.616  24.357  24.482  24.597  25.134  ...  103.783  105.514  107.605   \n",
       "1  21.844  21.429  21.617  21.805  22.647  ...  104.131  105.518  107.804   \n",
       "2      na      na      na      na      na  ...   105.64  107.047   109.02   \n",
       "\n",
       "   2022 Q3  2022 Q4  2023 Q1  2023 Q2  2023 Q3  2023 Q4  2024 Q1  \n",
       "0  109.679  110.679      112  113.093  114.164  115.121  115.335  \n",
       "1  110.196  111.732  113.935  114.933  115.474  116.148  117.769  \n",
       "2  111.364  112.919  114.913  115.628  116.007  116.452  117.298  \n",
       "\n",
       "[3 rows x 254 columns]"
      ]
     },
     "execution_count": 67,
     "metadata": {},
     "output_type": "execute_result"
    }
   ],
   "source": [
    "df.head(3)"
   ]
  },
  {
   "cell_type": "code",
   "execution_count": 69,
   "metadata": {
    "tags": []
   },
   "outputs": [],
   "source": [
    "df = clean_dataset(df)"
   ]
  },
  {
   "cell_type": "code",
   "execution_count": 71,
   "metadata": {
    "tags": []
   },
   "outputs": [],
   "source": [
    "df.fillna(value=0,axis=0,inplace=True)"
   ]
  },
  {
   "cell_type": "code",
   "execution_count": 73,
   "metadata": {
    "tags": []
   },
   "outputs": [
    {
     "data": {
      "text/plain": [
       "Variables\n",
       "All Items                                                          0\n",
       "Food                                                               0\n",
       "Food Excl Food Serving Services                                    0\n",
       "Bread & Cereals                                                    0\n",
       "Rice                                                               0\n",
       "                                                                  ..\n",
       "Other Personal Effects                                             0\n",
       "Social Services                                                    0\n",
       "Other Miscellaneous Services                                       0\n",
       "All Items Less Imputed Rentals On Owner-occupied Accommodation3    0\n",
       "All Items Less Accommodation3                                      0\n",
       "Length: 152, dtype: int64"
      ]
     },
     "execution_count": 73,
     "metadata": {},
     "output_type": "execute_result"
    }
   ],
   "source": [
    "df.isna().sum()"
   ]
  },
  {
   "cell_type": "code",
   "execution_count": 75,
   "metadata": {
    "tags": []
   },
   "outputs": [],
   "source": [
    "df.to_csv('cpi-quarterly.csv')"
   ]
  },
  {
   "cell_type": "markdown",
   "metadata": {
    "jp-MarkdownHeadingCollapsed": true,
    "tags": []
   },
   "source": [
    "# Cleaning yearly dataset"
   ]
  },
  {
   "cell_type": "code",
   "execution_count": 77,
   "metadata": {
    "tags": []
   },
   "outputs": [],
   "source": [
    "df = load('cpiapr24.xlsx','T3_edit')"
   ]
  },
  {
   "cell_type": "code",
   "execution_count": 79,
   "metadata": {
    "tags": []
   },
   "outputs": [
    {
     "data": {
      "text/html": [
       "<div>\n",
       "<style scoped>\n",
       "    .dataframe tbody tr th:only-of-type {\n",
       "        vertical-align: middle;\n",
       "    }\n",
       "\n",
       "    .dataframe tbody tr th {\n",
       "        vertical-align: top;\n",
       "    }\n",
       "\n",
       "    .dataframe thead th {\n",
       "        text-align: right;\n",
       "    }\n",
       "</style>\n",
       "<table border=\"1\" class=\"dataframe\">\n",
       "  <thead>\n",
       "    <tr style=\"text-align: right;\">\n",
       "      <th></th>\n",
       "      <th>Variables</th>\n",
       "      <th>1961</th>\n",
       "      <th>1962</th>\n",
       "      <th>1963</th>\n",
       "      <th>1964</th>\n",
       "      <th>1965</th>\n",
       "      <th>1966</th>\n",
       "      <th>1967</th>\n",
       "      <th>1968</th>\n",
       "      <th>1969</th>\n",
       "      <th>...</th>\n",
       "      <th>2014</th>\n",
       "      <th>2015</th>\n",
       "      <th>2016</th>\n",
       "      <th>2017</th>\n",
       "      <th>2018</th>\n",
       "      <th>2019</th>\n",
       "      <th>2020</th>\n",
       "      <th>2021</th>\n",
       "      <th>2022</th>\n",
       "      <th>2023</th>\n",
       "    </tr>\n",
       "  </thead>\n",
       "  <tbody>\n",
       "    <tr>\n",
       "      <th>0</th>\n",
       "      <td>All Items</td>\n",
       "      <td>24.401</td>\n",
       "      <td>24.513</td>\n",
       "      <td>25.033</td>\n",
       "      <td>25.448</td>\n",
       "      <td>25.513</td>\n",
       "      <td>26.028</td>\n",
       "      <td>26.874</td>\n",
       "      <td>27.058</td>\n",
       "      <td>26.989</td>\n",
       "      <td>...</td>\n",
       "      <td>99.483</td>\n",
       "      <td>98.963</td>\n",
       "      <td>98.436</td>\n",
       "      <td>99.004</td>\n",
       "      <td>99.438</td>\n",
       "      <td>100.0</td>\n",
       "      <td>99.818</td>\n",
       "      <td>102.119</td>\n",
       "      <td>108.37</td>\n",
       "      <td>113.595</td>\n",
       "    </tr>\n",
       "    <tr>\n",
       "      <th>1</th>\n",
       "      <td>Food</td>\n",
       "      <td>21.522</td>\n",
       "      <td>21.674</td>\n",
       "      <td>22.468</td>\n",
       "      <td>23.034</td>\n",
       "      <td>22.926</td>\n",
       "      <td>23.565</td>\n",
       "      <td>24.68</td>\n",
       "      <td>24.725</td>\n",
       "      <td>24.25</td>\n",
       "      <td>...</td>\n",
       "      <td>92.059</td>\n",
       "      <td>93.833</td>\n",
       "      <td>95.759</td>\n",
       "      <td>97.104</td>\n",
       "      <td>98.498</td>\n",
       "      <td>100.0</td>\n",
       "      <td>101.862</td>\n",
       "      <td>103.326</td>\n",
       "      <td>108.813</td>\n",
       "      <td>115.122</td>\n",
       "    </tr>\n",
       "    <tr>\n",
       "      <th>2</th>\n",
       "      <td>Food Excl Food Serving Services</td>\n",
       "      <td>na</td>\n",
       "      <td>na</td>\n",
       "      <td>na</td>\n",
       "      <td>na</td>\n",
       "      <td>na</td>\n",
       "      <td>na</td>\n",
       "      <td>na</td>\n",
       "      <td>na</td>\n",
       "      <td>na</td>\n",
       "      <td>...</td>\n",
       "      <td>93.058</td>\n",
       "      <td>94.198</td>\n",
       "      <td>96.366</td>\n",
       "      <td>97.608</td>\n",
       "      <td>98.87</td>\n",
       "      <td>100.0</td>\n",
       "      <td>102.898</td>\n",
       "      <td>104.546</td>\n",
       "      <td>110.088</td>\n",
       "      <td>115.75</td>\n",
       "    </tr>\n",
       "    <tr>\n",
       "      <th>3</th>\n",
       "      <td>Bread &amp; Cereals</td>\n",
       "      <td>na</td>\n",
       "      <td>na</td>\n",
       "      <td>na</td>\n",
       "      <td>na</td>\n",
       "      <td>na</td>\n",
       "      <td>na</td>\n",
       "      <td>na</td>\n",
       "      <td>na</td>\n",
       "      <td>na</td>\n",
       "      <td>...</td>\n",
       "      <td>94.121</td>\n",
       "      <td>95.333</td>\n",
       "      <td>96.535</td>\n",
       "      <td>97.127</td>\n",
       "      <td>98.501</td>\n",
       "      <td>100.0</td>\n",
       "      <td>101.93</td>\n",
       "      <td>102.592</td>\n",
       "      <td>106.683</td>\n",
       "      <td>113.923</td>\n",
       "    </tr>\n",
       "    <tr>\n",
       "      <th>4</th>\n",
       "      <td>Rice</td>\n",
       "      <td>na</td>\n",
       "      <td>na</td>\n",
       "      <td>na</td>\n",
       "      <td>na</td>\n",
       "      <td>na</td>\n",
       "      <td>na</td>\n",
       "      <td>na</td>\n",
       "      <td>na</td>\n",
       "      <td>na</td>\n",
       "      <td>...</td>\n",
       "      <td>95.516</td>\n",
       "      <td>94.643</td>\n",
       "      <td>95.374</td>\n",
       "      <td>94.898</td>\n",
       "      <td>96.202</td>\n",
       "      <td>100.0</td>\n",
       "      <td>101.754</td>\n",
       "      <td>99.802</td>\n",
       "      <td>98.426</td>\n",
       "      <td>101.378</td>\n",
       "    </tr>\n",
       "  </tbody>\n",
       "</table>\n",
       "<p>5 rows × 64 columns</p>\n",
       "</div>"
      ],
      "text/plain": [
       "                                 Variables    1961    1962    1963    1964  \\\n",
       "0                                All Items  24.401  24.513  25.033  25.448   \n",
       "1                                     Food  21.522  21.674  22.468  23.034   \n",
       "2          Food Excl Food Serving Services      na      na      na      na   \n",
       "3                          Bread & Cereals      na      na      na      na   \n",
       "4                                     Rice      na      na      na      na   \n",
       "\n",
       "     1965    1966    1967    1968    1969  ...    2014    2015    2016  \\\n",
       "0  25.513  26.028  26.874  27.058  26.989  ...  99.483  98.963  98.436   \n",
       "1  22.926  23.565   24.68  24.725   24.25  ...  92.059  93.833  95.759   \n",
       "2      na      na      na      na      na  ...  93.058  94.198  96.366   \n",
       "3      na      na      na      na      na  ...  94.121  95.333  96.535   \n",
       "4      na      na      na      na      na  ...  95.516  94.643  95.374   \n",
       "\n",
       "     2017    2018   2019     2020     2021     2022     2023  \n",
       "0  99.004  99.438  100.0   99.818  102.119   108.37  113.595  \n",
       "1  97.104  98.498  100.0  101.862  103.326  108.813  115.122  \n",
       "2  97.608   98.87  100.0  102.898  104.546  110.088   115.75  \n",
       "3  97.127  98.501  100.0   101.93  102.592  106.683  113.923  \n",
       "4  94.898  96.202  100.0  101.754   99.802   98.426  101.378  \n",
       "\n",
       "[5 rows x 64 columns]"
      ]
     },
     "execution_count": 79,
     "metadata": {},
     "output_type": "execute_result"
    }
   ],
   "source": [
    "df.head()"
   ]
  },
  {
   "cell_type": "code",
   "execution_count": 81,
   "metadata": {
    "tags": []
   },
   "outputs": [],
   "source": [
    "df = clean_dataset(df)"
   ]
  },
  {
   "cell_type": "code",
   "execution_count": 83,
   "metadata": {
    "tags": []
   },
   "outputs": [
    {
     "data": {
      "text/html": [
       "<div>\n",
       "<style scoped>\n",
       "    .dataframe tbody tr th:only-of-type {\n",
       "        vertical-align: middle;\n",
       "    }\n",
       "\n",
       "    .dataframe tbody tr th {\n",
       "        vertical-align: top;\n",
       "    }\n",
       "\n",
       "    .dataframe thead th {\n",
       "        text-align: right;\n",
       "    }\n",
       "</style>\n",
       "<table border=\"1\" class=\"dataframe\">\n",
       "  <thead>\n",
       "    <tr style=\"text-align: right;\">\n",
       "      <th>Variables</th>\n",
       "      <th>All Items</th>\n",
       "      <th>Food</th>\n",
       "      <th>Food Excl Food Serving Services</th>\n",
       "      <th>Bread &amp; Cereals</th>\n",
       "      <th>Rice</th>\n",
       "      <th>Flour</th>\n",
       "      <th>Bread</th>\n",
       "      <th>Noodles &amp; Pasta</th>\n",
       "      <th>Biscuits &amp; Cookies</th>\n",
       "      <th>Cakes &amp; Pastries</th>\n",
       "      <th>...</th>\n",
       "      <th>Spirits &amp; Wine</th>\n",
       "      <th>Beer</th>\n",
       "      <th>Cigarettes</th>\n",
       "      <th>Personal Effects</th>\n",
       "      <th>Jewellery &amp; Watches</th>\n",
       "      <th>Other Personal Effects</th>\n",
       "      <th>Social Services</th>\n",
       "      <th>Other Miscellaneous Services</th>\n",
       "      <th>All Items Less Imputed Rentals On Owner-occupied Accommodation3</th>\n",
       "      <th>All Items Less Accommodation3</th>\n",
       "    </tr>\n",
       "  </thead>\n",
       "  <tbody>\n",
       "    <tr>\n",
       "      <th>1961</th>\n",
       "      <td>24.401</td>\n",
       "      <td>21.522</td>\n",
       "      <td>na</td>\n",
       "      <td>na</td>\n",
       "      <td>na</td>\n",
       "      <td>na</td>\n",
       "      <td>na</td>\n",
       "      <td>na</td>\n",
       "      <td>na</td>\n",
       "      <td>na</td>\n",
       "      <td>...</td>\n",
       "      <td>na</td>\n",
       "      <td>na</td>\n",
       "      <td>na</td>\n",
       "      <td>na</td>\n",
       "      <td>na</td>\n",
       "      <td>na</td>\n",
       "      <td>na</td>\n",
       "      <td>na</td>\n",
       "      <td>na</td>\n",
       "      <td>na</td>\n",
       "    </tr>\n",
       "    <tr>\n",
       "      <th>1962</th>\n",
       "      <td>24.513</td>\n",
       "      <td>21.674</td>\n",
       "      <td>na</td>\n",
       "      <td>na</td>\n",
       "      <td>na</td>\n",
       "      <td>na</td>\n",
       "      <td>na</td>\n",
       "      <td>na</td>\n",
       "      <td>na</td>\n",
       "      <td>na</td>\n",
       "      <td>...</td>\n",
       "      <td>na</td>\n",
       "      <td>na</td>\n",
       "      <td>na</td>\n",
       "      <td>na</td>\n",
       "      <td>na</td>\n",
       "      <td>na</td>\n",
       "      <td>na</td>\n",
       "      <td>na</td>\n",
       "      <td>na</td>\n",
       "      <td>na</td>\n",
       "    </tr>\n",
       "    <tr>\n",
       "      <th>1963</th>\n",
       "      <td>25.033</td>\n",
       "      <td>22.468</td>\n",
       "      <td>na</td>\n",
       "      <td>na</td>\n",
       "      <td>na</td>\n",
       "      <td>na</td>\n",
       "      <td>na</td>\n",
       "      <td>na</td>\n",
       "      <td>na</td>\n",
       "      <td>na</td>\n",
       "      <td>...</td>\n",
       "      <td>na</td>\n",
       "      <td>na</td>\n",
       "      <td>na</td>\n",
       "      <td>na</td>\n",
       "      <td>na</td>\n",
       "      <td>na</td>\n",
       "      <td>na</td>\n",
       "      <td>na</td>\n",
       "      <td>na</td>\n",
       "      <td>na</td>\n",
       "    </tr>\n",
       "    <tr>\n",
       "      <th>1964</th>\n",
       "      <td>25.448</td>\n",
       "      <td>23.034</td>\n",
       "      <td>na</td>\n",
       "      <td>na</td>\n",
       "      <td>na</td>\n",
       "      <td>na</td>\n",
       "      <td>na</td>\n",
       "      <td>na</td>\n",
       "      <td>na</td>\n",
       "      <td>na</td>\n",
       "      <td>...</td>\n",
       "      <td>na</td>\n",
       "      <td>na</td>\n",
       "      <td>na</td>\n",
       "      <td>na</td>\n",
       "      <td>na</td>\n",
       "      <td>na</td>\n",
       "      <td>na</td>\n",
       "      <td>na</td>\n",
       "      <td>na</td>\n",
       "      <td>na</td>\n",
       "    </tr>\n",
       "    <tr>\n",
       "      <th>1965</th>\n",
       "      <td>25.513</td>\n",
       "      <td>22.926</td>\n",
       "      <td>na</td>\n",
       "      <td>na</td>\n",
       "      <td>na</td>\n",
       "      <td>na</td>\n",
       "      <td>na</td>\n",
       "      <td>na</td>\n",
       "      <td>na</td>\n",
       "      <td>na</td>\n",
       "      <td>...</td>\n",
       "      <td>na</td>\n",
       "      <td>na</td>\n",
       "      <td>na</td>\n",
       "      <td>na</td>\n",
       "      <td>na</td>\n",
       "      <td>na</td>\n",
       "      <td>na</td>\n",
       "      <td>na</td>\n",
       "      <td>na</td>\n",
       "      <td>na</td>\n",
       "    </tr>\n",
       "  </tbody>\n",
       "</table>\n",
       "<p>5 rows × 152 columns</p>\n",
       "</div>"
      ],
      "text/plain": [
       "Variables All Items    Food Food Excl Food Serving Services Bread & Cereals  \\\n",
       "1961         24.401  21.522                              na              na   \n",
       "1962         24.513  21.674                              na              na   \n",
       "1963         25.033  22.468                              na              na   \n",
       "1964         25.448  23.034                              na              na   \n",
       "1965         25.513  22.926                              na              na   \n",
       "\n",
       "Variables Rice Flour Bread Noodles & Pasta Biscuits & Cookies  \\\n",
       "1961        na    na    na              na                 na   \n",
       "1962        na    na    na              na                 na   \n",
       "1963        na    na    na              na                 na   \n",
       "1964        na    na    na              na                 na   \n",
       "1965        na    na    na              na                 na   \n",
       "\n",
       "Variables Cakes & Pastries  ... Spirits & Wine Beer Cigarettes  \\\n",
       "1961                    na  ...             na   na         na   \n",
       "1962                    na  ...             na   na         na   \n",
       "1963                    na  ...             na   na         na   \n",
       "1964                    na  ...             na   na         na   \n",
       "1965                    na  ...             na   na         na   \n",
       "\n",
       "Variables Personal Effects Jewellery & Watches Other Personal Effects  \\\n",
       "1961                    na                  na                     na   \n",
       "1962                    na                  na                     na   \n",
       "1963                    na                  na                     na   \n",
       "1964                    na                  na                     na   \n",
       "1965                    na                  na                     na   \n",
       "\n",
       "Variables Social Services Other Miscellaneous Services  \\\n",
       "1961                   na                           na   \n",
       "1962                   na                           na   \n",
       "1963                   na                           na   \n",
       "1964                   na                           na   \n",
       "1965                   na                           na   \n",
       "\n",
       "Variables All Items Less Imputed Rentals On Owner-occupied Accommodation3  \\\n",
       "1961                                                      na                \n",
       "1962                                                      na                \n",
       "1963                                                      na                \n",
       "1964                                                      na                \n",
       "1965                                                      na                \n",
       "\n",
       "Variables All Items Less Accommodation3  \n",
       "1961                                 na  \n",
       "1962                                 na  \n",
       "1963                                 na  \n",
       "1964                                 na  \n",
       "1965                                 na  \n",
       "\n",
       "[5 rows x 152 columns]"
      ]
     },
     "execution_count": 83,
     "metadata": {},
     "output_type": "execute_result"
    }
   ],
   "source": [
    "df.head()"
   ]
  },
  {
   "cell_type": "code",
   "execution_count": 87,
   "metadata": {
    "tags": []
   },
   "outputs": [],
   "source": [
    "df.fillna(value=0,axis=0,inplace=True)"
   ]
  },
  {
   "cell_type": "code",
   "execution_count": 91,
   "metadata": {
    "tags": []
   },
   "outputs": [
    {
     "data": {
      "text/plain": [
       "Variables\n",
       "All Items                                                          0\n",
       "Food                                                               0\n",
       "Food Excl Food Serving Services                                    0\n",
       "Bread & Cereals                                                    0\n",
       "Rice                                                               0\n",
       "                                                                  ..\n",
       "Other Personal Effects                                             0\n",
       "Social Services                                                    0\n",
       "Other Miscellaneous Services                                       0\n",
       "All Items Less Imputed Rentals On Owner-occupied Accommodation3    0\n",
       "All Items Less Accommodation3                                      0\n",
       "Length: 152, dtype: int64"
      ]
     },
     "execution_count": 91,
     "metadata": {},
     "output_type": "execute_result"
    }
   ],
   "source": [
    "df.isna().sum()"
   ]
  },
  {
   "cell_type": "code",
   "execution_count": 93,
   "metadata": {
    "tags": []
   },
   "outputs": [],
   "source": [
    "df.to_csv('cpi-yearly.csv')"
   ]
  },
  {
   "cell_type": "code",
   "execution_count": 95,
   "metadata": {
    "tags": []
   },
   "outputs": [
    {
     "data": {
      "text/plain": [
       "Index([1961, 1962, 1963, 1964, 1965, 1966, 1967, 1968, 1969, 1970, 1971, 1972,\n",
       "       1973, 1974, 1975, 1976, 1977, 1978, 1979, 1980, 1981, 1982, 1983, 1984,\n",
       "       1985, 1986, 1987, 1988, 1989, 1990, 1991, 1992, 1993, 1994, 1995, 1996,\n",
       "       1997, 1998, 1999, 2000, 2001, 2002, 2003, 2004, 2005, 2006, 2007, 2008,\n",
       "       2009, 2010, 2011, 2012, 2013, 2014, 2015, 2016, 2017, 2018, 2019, 2020,\n",
       "       2021, 2022, 2023],\n",
       "      dtype='object')"
      ]
     },
     "execution_count": 95,
     "metadata": {},
     "output_type": "execute_result"
    }
   ],
   "source": [
    "df.index"
   ]
  },
  {
   "cell_type": "markdown",
   "metadata": {},
   "source": [
    "# Categories"
   ]
  },
  {
   "cell_type": "code",
   "execution_count": 101,
   "metadata": {
    "tags": []
   },
   "outputs": [],
   "source": [
    "\n",
    "# Define category structure\n",
    "def get_categories():\n",
    "    return {\n",
    "        'Food': [\n",
    "            'Food Excl Food Serving Services', 'Bread & Cereals', 'Rice', 'Flour', 'Bread', 'Noodles & Pasta', 'Biscuits & Cookies',\n",
    "            'Cakes & Pastries', 'Other Cereals', 'Meat', 'Pork, Chilled', 'Beef, Chilled', 'Mutton, Chilled', 'Poultry, Chilled',\n",
    "            'Meat, Frozen', 'Meat Preparations', 'Fish & Seafood', 'Fish, Chilled', 'Fish, Frozen', 'Other Seafood', 'Seafood Preparations',\n",
    "            'Milk, Cheese & Eggs', 'Formula Milk Powder', 'Other Milk & Dairy Products', 'Eggs', 'Oils & Fats', 'Butter & Other Fats',\n",
    "            'Cooking Oils', 'Fruits', 'Tropical Fruits, Fresh', 'Citrus, Berries & Other Fruits, Fresh', 'Preserved Fruits & Nuts',\n",
    "            'Vegetables', 'Leafy Vegetables, Fresh', 'Fruit Vegetables, Fresh', 'Root Vegetables, Fresh', 'Other Vegetables & Preparations',\n",
    "            'Sugar, Preserves & Confectionery', 'Sugar', 'Confectionery & Ice-cream', 'Sugar Preserves & Spread', 'Non-alcoholic Beverages',\n",
    "            'Coffee & Tea', 'Soft Drinks', 'Other Beverages', 'Other Food'\n",
    "        ],\n",
    "        'Food Serving Services': [\n",
    "            'Restaurant Food', 'Fast Food', 'Hawker Food', 'Hawker Centres', 'Food Courts & Coffee Shops', 'Catered Food'\n",
    "        ],\n",
    "        'Clothing & Footwear': [\n",
    "            'Clothing', 'Men\\'s Clothing', 'Women\\'s Clothing', 'Children\\'s Clothing', 'Other Articles & Related Services', 'Footwear',\n",
    "            'Men\\'s Footwear', 'Women\\'s Footwear', 'Children\\'s Footwear'\n",
    "        ],\n",
    "        'Housing & Utilities': [\n",
    "            'Accommodation3', 'Utilities & Other Fuels', 'Water Supply', 'Refuse Collection', 'Electricity', 'Gas'\n",
    "        ],\n",
    "        'Household Durables & Services': [\n",
    "            'Household Durables', 'Furniture', 'Furnishings', 'Other Household Textiles', 'Household Appliances', 'Utensils & Others',\n",
    "            'Household Services & Supplies', 'Non-durable Household Goods', 'Domestic & Household Services'\n",
    "        ],\n",
    "        'Health Care': [\n",
    "            'Medicines & Health Products', 'Medicines & Vitamins', 'Medical Products', 'Outpatient Services', 'Fees At Polyclinics',\n",
    "            'Fees At General Practitioners (GP) Clinics', 'Fees At Specialist Outpatient Clinics', 'Dental Services', 'Paramedical Services',\n",
    "            'Hospital Services', 'Health Insurance'\n",
    "        ],\n",
    "        'Transport': [\n",
    "            'Private Transport', 'Cars', 'Motorcycles', 'Petrol', 'Other Private Transport', 'Public Transport', 'Bus & Train Fares',\n",
    "            'Point-to-point Transport Services2', 'Other Public Transport', 'Other Transport Services', 'Air Fares', 'Other Transport'\n",
    "        ],\n",
    "        'Communication': [\n",
    "            'Postage & Courier Services', 'Telecommunication Equipment', 'Telecommunication Services'\n",
    "        ],\n",
    "        'Recreation & Culture': [\n",
    "            'Recreational & Cultural Goods', 'Information Processing Equipment', 'Audio-visual Equipment & Others', 'Games & Toys',\n",
    "            'Pets & Related Products', 'Other Recreational & Cultural Goods', 'Recreational & Cultural Services', 'Sport Services & Other Fees',\n",
    "            'Cinema Tickets', 'Charges To Places Of Interest', 'Other Recreational & Cultural Services'\n",
    "        ],\n",
    "        'Newspapers, Books & Stationery': [\n",
    "            'Newspapers & Magazines', 'Books & Stationery'\n",
    "        ],\n",
    "        'Holiday Expenses': [\n",
    "            'Package Tours', 'Hotels & Other Expenses'\n",
    "        ],\n",
    "        'Education': [\n",
    "            'Tuition & Other Fees', 'Primary Education', 'Secondary Education', 'Other General, Vocational & Higher Education',\n",
    "            'Enrichment & Supplementary Courses', 'Textbooks & Study Guides'\n",
    "        ],\n",
    "        'Miscellaneous Goods & Services': [\n",
    "            'Personal Care', 'Hairdressing', 'Personal Grooming Services', 'Other Personal Care', 'Alcoholic Drinks & Tobacco',\n",
    "            'Spirits & Wine', 'Beer', 'Cigarettes', 'Personal Effects', 'Jewellery & Watches', 'Other Personal Effects', 'Social Services',\n",
    "            'Other Miscellaneous Services', 'All Items Less Imputed Rentals On Owner-occupied Accommodation3', 'All Items Less Accommodation3'\n",
    "        ]\n",
    "    }"
   ]
  },
  {
   "cell_type": "code",
   "execution_count": 113,
   "metadata": {
    "tags": []
   },
   "outputs": [
    {
     "data": {
      "text/plain": [
       "dict_keys(['Food', 'Food Serving Services', 'Clothing & Footwear', 'Housing & Utilities', 'Household Durables & Services', 'Health Care', 'Transport', 'Communication', 'Recreation & Culture', 'Newspapers, Books & Stationery', 'Holiday Expenses', 'Education', 'Miscellaneous Goods & Services'])"
      ]
     },
     "execution_count": 113,
     "metadata": {},
     "output_type": "execute_result"
    }
   ],
   "source": [
    "get_categories().keys()"
   ]
  },
  {
   "cell_type": "code",
   "execution_count": 117,
   "metadata": {
    "tags": []
   },
   "outputs": [
    {
     "data": {
      "text/plain": [
       "[1961,\n",
       " 1962,\n",
       " 1963,\n",
       " 1964,\n",
       " 1965,\n",
       " 1966,\n",
       " 1967,\n",
       " 1968,\n",
       " 1969,\n",
       " 1970,\n",
       " 1971,\n",
       " 1972,\n",
       " 1973,\n",
       " 1974,\n",
       " 1975,\n",
       " 1976,\n",
       " 1977,\n",
       " 1978,\n",
       " 1979,\n",
       " 1980,\n",
       " 1981,\n",
       " 1982,\n",
       " 1983,\n",
       " 1984,\n",
       " 1985,\n",
       " 1986,\n",
       " 1987,\n",
       " 1988,\n",
       " 1989,\n",
       " 1990,\n",
       " 1991,\n",
       " 1992,\n",
       " 1993,\n",
       " 1994,\n",
       " 1995,\n",
       " 1996,\n",
       " 1997,\n",
       " 1998,\n",
       " 1999,\n",
       " 2000,\n",
       " 2001,\n",
       " 2002,\n",
       " 2003,\n",
       " 2004,\n",
       " 2005,\n",
       " 2006,\n",
       " 2007,\n",
       " 2008,\n",
       " 2009,\n",
       " 2010,\n",
       " 2011,\n",
       " 2012,\n",
       " 2013,\n",
       " 2014,\n",
       " 2015,\n",
       " 2016,\n",
       " 2017,\n",
       " 2018,\n",
       " 2019,\n",
       " 2020,\n",
       " 2021,\n",
       " 2022,\n",
       " 2023]"
      ]
     },
     "execution_count": 117,
     "metadata": {},
     "output_type": "execute_result"
    }
   ],
   "source": [
    "[x for x in df.index]"
   ]
  },
  {
   "cell_type": "code",
   "execution_count": null,
   "metadata": {},
   "outputs": [],
   "source": []
  }
 ],
 "metadata": {
  "kernelspec": {
   "display_name": "Python 3 (ipykernel)",
   "language": "python",
   "name": "python3"
  },
  "language_info": {
   "codemirror_mode": {
    "name": "ipython",
    "version": 3
   },
   "file_extension": ".py",
   "mimetype": "text/x-python",
   "name": "python",
   "nbconvert_exporter": "python",
   "pygments_lexer": "ipython3",
   "version": "3.11.7"
  }
 },
 "nbformat": 4,
 "nbformat_minor": 4
}
